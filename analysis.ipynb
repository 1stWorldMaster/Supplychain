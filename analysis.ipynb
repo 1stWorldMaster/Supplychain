{
 "cells": [
  {
   "cell_type": "code",
   "execution_count": 1,
   "metadata": {},
   "outputs": [],
   "source": [
    "import pandas as pd\n",
    "import seaborn as sns"
   ]
  },
  {
   "cell_type": "code",
   "execution_count": 2,
   "metadata": {},
   "outputs": [],
   "source": [
    "df =  pd.read_csv('package.csv')"
   ]
  },
  {
   "cell_type": "code",
   "execution_count": 3,
   "metadata": {},
   "outputs": [
    {
     "data": {
      "text/html": [
       "<div>\n",
       "<style scoped>\n",
       "    .dataframe tbody tr th:only-of-type {\n",
       "        vertical-align: middle;\n",
       "    }\n",
       "\n",
       "    .dataframe tbody tr th {\n",
       "        vertical-align: top;\n",
       "    }\n",
       "\n",
       "    .dataframe thead th {\n",
       "        text-align: right;\n",
       "    }\n",
       "</style>\n",
       "<table border=\"1\" class=\"dataframe\">\n",
       "  <thead>\n",
       "    <tr style=\"text-align: right;\">\n",
       "      <th></th>\n",
       "      <th>Package Identifier</th>\n",
       "      <th>Length (cm)</th>\n",
       "      <th>Width (cm)</th>\n",
       "      <th>Height (cm)</th>\n",
       "      <th>Weight (kg)</th>\n",
       "      <th>Type (P/E)</th>\n",
       "      <th>Cost of Delay</th>\n",
       "    </tr>\n",
       "  </thead>\n",
       "  <tbody>\n",
       "    <tr>\n",
       "      <th>0</th>\n",
       "      <td>P-1</td>\n",
       "      <td>99</td>\n",
       "      <td>53</td>\n",
       "      <td>55</td>\n",
       "      <td>61</td>\n",
       "      <td>Economy</td>\n",
       "      <td>176</td>\n",
       "    </tr>\n",
       "    <tr>\n",
       "      <th>1</th>\n",
       "      <td>P-2</td>\n",
       "      <td>56</td>\n",
       "      <td>99</td>\n",
       "      <td>81</td>\n",
       "      <td>53</td>\n",
       "      <td>Priority</td>\n",
       "      <td>-</td>\n",
       "    </tr>\n",
       "    <tr>\n",
       "      <th>2</th>\n",
       "      <td>P-3</td>\n",
       "      <td>42</td>\n",
       "      <td>101</td>\n",
       "      <td>51</td>\n",
       "      <td>17</td>\n",
       "      <td>Priority</td>\n",
       "      <td>-</td>\n",
       "    </tr>\n",
       "    <tr>\n",
       "      <th>3</th>\n",
       "      <td>P-4</td>\n",
       "      <td>108</td>\n",
       "      <td>75</td>\n",
       "      <td>56</td>\n",
       "      <td>73</td>\n",
       "      <td>Economy</td>\n",
       "      <td>138</td>\n",
       "    </tr>\n",
       "    <tr>\n",
       "      <th>4</th>\n",
       "      <td>P-5</td>\n",
       "      <td>88</td>\n",
       "      <td>58</td>\n",
       "      <td>64</td>\n",
       "      <td>93</td>\n",
       "      <td>Economy</td>\n",
       "      <td>139</td>\n",
       "    </tr>\n",
       "  </tbody>\n",
       "</table>\n",
       "</div>"
      ],
      "text/plain": [
       "  Package Identifier  Length (cm)  Width (cm)  Height (cm)  Weight (kg)  \\\n",
       "0                P-1           99          53           55           61   \n",
       "1                P-2           56          99           81           53   \n",
       "2                P-3           42         101           51           17   \n",
       "3                P-4          108          75           56           73   \n",
       "4                P-5           88          58           64           93   \n",
       "\n",
       "  Type (P/E) Cost of Delay  \n",
       "0    Economy           176  \n",
       "1   Priority             -  \n",
       "2   Priority             -  \n",
       "3    Economy           138  \n",
       "4    Economy           139  "
      ]
     },
     "execution_count": 3,
     "metadata": {},
     "output_type": "execute_result"
    }
   ],
   "source": [
    "df.head()"
   ]
  },
  {
   "cell_type": "code",
   "execution_count": 4,
   "metadata": {},
   "outputs": [
    {
     "name": "stdout",
     "output_type": "stream",
     "text": [
      "<class 'pandas.core.frame.DataFrame'>\n",
      "RangeIndex: 400 entries, 0 to 399\n",
      "Data columns (total 7 columns):\n",
      " #   Column              Non-Null Count  Dtype \n",
      "---  ------              --------------  ----- \n",
      " 0   Package Identifier  400 non-null    object\n",
      " 1   Length (cm)         400 non-null    int64 \n",
      " 2   Width (cm)          400 non-null    int64 \n",
      " 3   Height (cm)         400 non-null    int64 \n",
      " 4   Weight (kg)         400 non-null    int64 \n",
      " 5   Type (P/E)          400 non-null    object\n",
      " 6   Cost of Delay       400 non-null    object\n",
      "dtypes: int64(4), object(3)\n",
      "memory usage: 22.0+ KB\n"
     ]
    }
   ],
   "source": [
    "df.info()"
   ]
  },
  {
   "cell_type": "code",
   "execution_count": 5,
   "metadata": {},
   "outputs": [
    {
     "data": {
      "text/plain": [
       "Package Identifier    0\n",
       "Length (cm)           0\n",
       "Width (cm)            0\n",
       "Height (cm)           0\n",
       "Weight (kg)           0\n",
       "Type (P/E)            0\n",
       "Cost of Delay         0\n",
       "dtype: int64"
      ]
     },
     "execution_count": 5,
     "metadata": {},
     "output_type": "execute_result"
    }
   ],
   "source": [
    "df.isnull().sum()"
   ]
  },
  {
   "cell_type": "code",
   "execution_count": 6,
   "metadata": {},
   "outputs": [
    {
     "data": {
      "text/plain": [
       "np.int64(0)"
      ]
     },
     "execution_count": 6,
     "metadata": {},
     "output_type": "execute_result"
    }
   ],
   "source": [
    "df.duplicated().sum()"
   ]
  },
  {
   "cell_type": "code",
   "execution_count": 7,
   "metadata": {},
   "outputs": [],
   "source": [
    "train = df.drop('Package Identifier',axis=1)\n",
    "train = train.drop('Type (P/E)',axis=1)\n",
    "train = train.drop('Cost of Delay',axis=1)"
   ]
  },
  {
   "cell_type": "code",
   "execution_count": 8,
   "metadata": {},
   "outputs": [],
   "source": [
    "train['Sum(cm)'] = (df['Length (cm)'] + df['Width (cm)'] + df['Height (cm)'])/3\n",
    "train['vol'] = df['Length (cm)'] * df['Width (cm)'] * df['Height (cm)']"
   ]
  },
  {
   "cell_type": "code",
   "execution_count": 9,
   "metadata": {},
   "outputs": [
    {
     "data": {
      "text/plain": [
       "Length (cm)    0.399516\n",
       "Width (cm)     0.402528\n",
       "Height (cm)    0.359402\n",
       "Weight (kg)    1.000000\n",
       "Sum(cm)        0.699212\n",
       "vol            0.713528\n",
       "Name: Weight (kg), dtype: float64"
      ]
     },
     "execution_count": 9,
     "metadata": {},
     "output_type": "execute_result"
    }
   ],
   "source": [
    "train.corr()['Weight (kg)']"
   ]
  },
  {
   "cell_type": "code",
   "execution_count": null,
   "metadata": {},
   "outputs": [],
   "source": []
  }
 ],
 "metadata": {
  "kernelspec": {
   "display_name": "Python 3",
   "language": "python",
   "name": "python3"
  },
  "language_info": {
   "codemirror_mode": {
    "name": "ipython",
    "version": 3
   },
   "file_extension": ".py",
   "mimetype": "text/x-python",
   "name": "python",
   "nbconvert_exporter": "python",
   "pygments_lexer": "ipython3",
   "version": "3.12.7"
  }
 },
 "nbformat": 4,
 "nbformat_minor": 2
}
